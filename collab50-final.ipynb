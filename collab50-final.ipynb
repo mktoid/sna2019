{
 "cells": [
  {
   "cell_type": "code",
   "execution_count": 1,
   "metadata": {},
   "outputs": [],
   "source": [
    "%matplotlib inline\n",
    "import matplotlib.pyplot as plt\n",
    "import pandas as pd\n",
    "import numpy as np\n",
    "import re\n",
    "from sklearn.metrics import roc_curve,roc_auc_score\n",
    "from sklearn.model_selection import train_test_split\n",
    "import random\n",
    "import os\n",
    "from tqdm import tqdm\n",
    "from multiprocessing import Pool\n",
    "\n",
    "import pyarrow.parquet as parquet\n",
    "from sklearn.linear_model import LogisticRegression"
   ]
  },
  {
   "cell_type": "code",
   "execution_count": 2,
   "metadata": {},
   "outputs": [],
   "source": [
    "zero_features = ['first_image_id']\n",
    "duplicates = [\n",
    "        'userOwnerCounters_MOVIE_COMMENT_CREATE',\n",
    "        'userOwnerCounters_PHOTO_COMMENT_CREATE',\n",
    "        'userOwnerCounters_PHOTO_MARK_CREATE',\n",
    "        'userOwnerCounters_PHOTO_PIN_BATCH_CREATE',\n",
    "        'userOwnerCounters_PHOTO_PIN_UPDATE',\n",
    "        'userOwnerCounters_PHOTO_VIEW',\n",
    "        'userOwnerCounters_USER_DELETE_MESSAGE', \n",
    "        'userOwnerCounters_USER_FORUM_MESSAGE_CREATE',\n",
    "        'userOwnerCounters_USER_INTERNAL_LIKE',\n",
    "        'userOwnerCounters_USER_INTERNAL_UNLIKE', \n",
    "        'userOwnerCounters_USER_PHOTO_ALBUM_COMMENT_CREATE', \n",
    "        'userOwnerCounters_USER_PRESENT_SEND', \n",
    "        'userOwnerCounters_USER_PROFILE_VIEW', \n",
    "        'userOwnerCounters_USER_SEND_MESSAGE', \n",
    "        'userOwnerCounters_USER_STATUS_COMMENT_CREATE', \n",
    "        'userOwnerCounters_VOTE_POLL'\n",
    "        ]\n",
    "zero_features2 = [\n",
    "    'HAS_TEXT',\n",
    "    'user_is_deleted',\n",
    "    'user_is_semiactivated',\n",
    "    'auditweights_userOwner_USER_PROFILE_VIEW',\n",
    "    'auditweights_hasDetectedText',\n",
    "    'auditweights_userOwner_PHOTO_VIEW',\n",
    "    'auditweights_relationMasks',\n",
    "    'auditweights_userOwner_CREATE_IMAGE',\n",
    "    'user_is_activated',\n",
    "    'user_is_active',\n",
    "    'auditweights_source_MOVIE_TOP',\n",
    "    'auditweights_closed',\n",
    "    'user_is_abused',\n",
    "    'IS_PROMO',\n",
    "    'auditweights_userOwner_UNKNOWN',\n",
    "    'IS_CENSORED',\n",
    "    'IS_DISGUSTING']"
   ]
  },
  {
   "cell_type": "code",
   "execution_count": 3,
   "metadata": {},
   "outputs": [],
   "source": [
    "cat_columns = ['instanceId_objectType',\n",
    "           'audit_clientType',\n",
    "           'metadata_ownerType',\n",
    "           'metadata_platform',\n",
    "           'membership_status']\n",
    "# catboost_cat_columns=[\n",
    "#         'audit_clientType',\n",
    "#         'audit_experiment',\n",
    "#         'audit_resourceType',\n",
    "#         'instanceId_objectType',\n",
    "#         'membership_status',\n",
    "#         'metadata_ownerType',\n",
    "#         'metadata_platform',\n",
    "#         'user_ID_country',\n",
    "#         'user_region',\n",
    "#         'user_status'\n",
    "# ]"
   ]
  },
  {
   "cell_type": "code",
   "execution_count": 4,
   "metadata": {},
   "outputs": [],
   "source": [
    "additional_cat_cols = ['instanceId_userId', 'user_region', 'user_status', 'metadata_authorId', 'metadata_ownerId',\n",
    "                       'audit_resourceType', 'audit_timestamp_dow', 'metadata_createdAt_dow', 'user_ID_Location', 'user_ID_country']"
   ]
  },
  {
   "cell_type": "code",
   "execution_count": 5,
   "metadata": {},
   "outputs": [],
   "source": [
    "md_columns = ['HAS_COMPANIONS',\n",
    "    'HAS_DETECTED_TEXT',\n",
    "    'HAS_MUSIC',\n",
    "    'HAS_PHOTOS',\n",
    "    'HAS_PINS',\n",
    "    'HAS_POLLS',\n",
    "    'HAS_TEXT',\n",
    "    'HAS_URLS',\n",
    "    'HAS_VIDEOS',\n",
    "    'IS_CENSORED',\n",
    "    'IS_DISGUSTING',\n",
    "    'IS_EXTERNAL_SHARE',\n",
    "    'IS_GIF',\n",
    "    'IS_INTERNAL_GROUP_SHARE',\n",
    "    'IS_INTERNAL_SHARE',\n",
    "    'IS_PART_OF_ALBUM',\n",
    "    'IS_PART_OF_TOPIC',\n",
    "    'IS_PROMO']\n",
    "feedback_columns = ['Clicked',\n",
    "    'Commented',\n",
    "    'Complaint',\n",
    "    'Disliked',\n",
    "    'Ignored',\n",
    "    'Liked',\n",
    "    'ReShared',\n",
    "    'Unliked',\n",
    "    'Viewed']"
   ]
  },
  {
   "cell_type": "code",
   "execution_count": 6,
   "metadata": {},
   "outputs": [],
   "source": [
    "def convert_int_float(df):\n",
    "    df_float = df.select_dtypes(include=['float'])\n",
    "    converted_float = df_float.apply(pd.to_numeric,downcast='float')\n",
    "    \n",
    "    df_int = df.select_dtypes(include=['int'])\n",
    "    converted_int = df_int.apply(pd.to_numeric,downcast='unsigned')\n",
    "    \n",
    "    optimized_df = df.copy()\n",
    "    optimized_df[converted_int.columns] = converted_int\n",
    "    optimized_df[converted_float.columns] = converted_float\n",
    "    return optimized_df"
   ]
  },
  {
   "cell_type": "code",
   "execution_count": null,
   "metadata": {},
   "outputs": [],
   "source": []
  },
  {
   "cell_type": "code",
   "execution_count": 7,
   "metadata": {},
   "outputs": [],
   "source": [
    "def get_first_image_id(ids):\n",
    "    if ids is not None:\n",
    "        return ids[0]\n",
    "\n",
    "def get_df(f):\n",
    "    print(f)\n",
    "    df = parquet.read_table(f).to_pandas()\n",
    "    md = pd.get_dummies(df.metadata_options.apply(pd.Series).stack()).sum(level=0)\n",
    "    df.drop('metadata_options', inplace=True, axis=1)\n",
    "    feedback_df = pd.get_dummies(df.feedback.apply(pd.Series).stack()).sum(level=0)\n",
    "    df.drop('feedback', axis=1, inplace=True)\n",
    "    df['first_image_id'] = df.ImageId.apply(get_first_image_id)\n",
    "    df.drop('ImageId', axis=1, inplace=True)\n",
    "    for c in cat_columns:\n",
    "        df[c] = df[c].fillna('NULL').astype('category')\n",
    "    return pd.concat([convert_int_float(df), md, feedback_df], axis=1)"
   ]
  },
  {
   "cell_type": "code",
   "execution_count": 8,
   "metadata": {},
   "outputs": [],
   "source": [
    "def read_parquet(folder):\n",
    "    folders = [os.path.join(folder,d) for d in os.listdir(folder) if 'date' in d]\n",
    "    pool = Pool(14)\n",
    "    dfs = pool.map(get_df, folders)\n",
    "    return pd.concat(dfs).reset_index(drop=True)"
   ]
  },
  {
   "cell_type": "code",
   "execution_count": 9,
   "metadata": {},
   "outputs": [
    {
     "name": "stdout",
     "output_type": "stream",
     "text": [
      "../../dataset/train/date=2018-02-01\n",
      "../../dataset/train/date=2018-02-05\n",
      "../../dataset/train/date=2018-02-02\n",
      "../../dataset/train/date=2018-02-04\n",
      "../../dataset/train/date=2018-02-03\n",
      "../../dataset/train/date=2018-02-06\n",
      "../../dataset/train/date=2018-02-07\n",
      "../../dataset/train/date=2018-02-08\n",
      "../../dataset/train/date=2018-02-09\n",
      "../../dataset/train/date=2018-02-14\n",
      "../../dataset/train/date=2018-02-10\n",
      "../../dataset/train/date=2018-02-13\n",
      "../../dataset/train/date=2018-02-12\n",
      "../../dataset/train/date=2018-02-15\n",
      "../../dataset/train/date=2018-02-16\n",
      "../../dataset/train/date=2018-02-17\n",
      "../../dataset/train/date=2018-02-18\n",
      "../../dataset/train/date=2018-02-19\n",
      "../../dataset/train/date=2018-02-20\n",
      "../../dataset/train/date=2018-02-21\n",
      "../../dataset/train/date=2018-02-22\n",
      "../../dataset/train/date=2018-02-23\n",
      "../../dataset/train/date=2018-02-24\n",
      "../../dataset/train/date=2018-02-25\n",
      "../../dataset/train/date=2018-02-26\n",
      "../../dataset/train/date=2018-02-27\n",
      "../../dataset/train/date=2018-02-28\n",
      "../../dataset/train/date=2018-03-01\n",
      "../../dataset/train/date=2018-03-02\n",
      "../../dataset/train/date=2018-03-03\n",
      "../../dataset/train/date=2018-03-04\n",
      "../../dataset/train/date=2018-03-05\n",
      "../../dataset/train/date=2018-03-06\n",
      "../../dataset/train/date=2018-03-07\n",
      "../../dataset/train/date=2018-03-08\n",
      "../../dataset/train/date=2018-03-09\n",
      "../../dataset/train/date=2018-03-10\n",
      "../../dataset/train/date=2018-03-11\n",
      "../../dataset/train/date=2018-03-12\n",
      "../../dataset/train/date=2018-03-13\n",
      "../../dataset/train/date=2018-03-14\n",
      "../../dataset/train/date=2018-03-15\n",
      "../../dataset/train/date=2018-03-16\n",
      "../../dataset/train/date=2018-03-17\n",
      "../../dataset/train/date=2018-03-18\n",
      "../../dataset/train/date=2018-03-19\n",
      "../../dataset/train/date=2018-03-20\n",
      "../../dataset/train/date=2018-03-21\n"
     ]
    },
    {
     "name": "stderr",
     "output_type": "stream",
     "text": [
      "/home/seshaln/anaconda3/lib/python3.7/site-packages/ipykernel_launcher.py:5: FutureWarning: Sorting because non-concatenation axis is not aligned. A future version\n",
      "of pandas will change to not sort by default.\n",
      "\n",
      "To accept the future behavior, pass 'sort=False'.\n",
      "\n",
      "To retain the current behavior and silence the warning, pass 'sort=True'.\n",
      "\n",
      "  \"\"\"\n"
     ]
    },
    {
     "name": "stdout",
     "output_type": "stream",
     "text": [
      "CPU times: user 8min 6s, sys: 1min 56s, total: 10min 2s\n",
      "Wall time: 28min 29s\n"
     ]
    }
   ],
   "source": [
    "%%time\n",
    "df = read_parquet('../../dataset/train/')"
   ]
  },
  {
   "cell_type": "code",
   "execution_count": 10,
   "metadata": {},
   "outputs": [],
   "source": [
    "for c in md_columns+feedback_columns:\n",
    "    df[c] = df[c].fillna(0).astype('uint8')"
   ]
  },
  {
   "cell_type": "code",
   "execution_count": 11,
   "metadata": {},
   "outputs": [
    {
     "name": "stdout",
     "output_type": "stream",
     "text": [
      "<class 'pandas.core.frame.DataFrame'>\n",
      "RangeIndex: 30787847 entries, 0 to 30787846\n",
      "Columns: 133 entries, Clicked to user_status\n",
      "dtypes: category(4), float32(72), float64(11), int32(11), int64(1), object(2), uint16(1), uint64(2), uint8(29)\n",
      "memory usage: 17.3 GB\n"
     ]
    }
   ],
   "source": [
    "df.info(memory_usage='deep')"
   ]
  },
  {
   "cell_type": "code",
   "execution_count": 12,
   "metadata": {},
   "outputs": [
    {
     "name": "stdout",
     "output_type": "stream",
     "text": [
      "<class 'pandas.core.frame.DataFrame'>\n",
      "RangeIndex: 30787847 entries, 0 to 30787846\n",
      "Columns: 133 entries, Clicked to user_status\n",
      "dtypes: category(4), float32(83), int32(11), int64(1), object(2), uint16(1), uint64(2), uint8(29)\n",
      "memory usage: 16.0 GB\n"
     ]
    }
   ],
   "source": [
    "df = convert_int_float(df)\n",
    "df.info(memory_usage='deep')"
   ]
  },
  {
   "cell_type": "code",
   "execution_count": 13,
   "metadata": {},
   "outputs": [
    {
     "name": "stdout",
     "output_type": "stream",
     "text": [
      "auditweights_closed 1 0.999999935039303 [nan  1.]\n",
      "auditweights_hasDetectedText 1 0.9999974665328173 [nan  1.]\n",
      "auditweights_hasText 1 0.9889632100614245 [nan  1.]\n",
      "auditweights_isRandom 1 0.0 [1.]\n",
      "auditweights_isRandom REMOVED2\n",
      "auditweights_notOriginalPhoto 1 0.9708656470847085 [nan  1.]\n",
      "auditweights_onlineVideo 1 0.9993546154753855 [nan  1.]\n",
      "auditweights_processedVideo 1 0.9757074276743027 [nan  1.]\n",
      "auditweights_relationMasks 1 0.999999935039303 [nan  1.]\n",
      "auditweights_source_MOVIE_TOP 1 0.9999937962534373 [nan  1.]\n",
      "auditweights_userOwner_PHOTO_VIEW 1 0.9999999675196515 [nan  1.]\n",
      "auditweights_userOwner_USER_PROFILE_VIEW 1 0.9999999675196515 [       nan 0.97587299]\n",
      "metadata_applicationId 1 0.0 [0]\n",
      "metadata_applicationId REMOVED2\n",
      "userOwnerCounters_COMMENT_INTERNAL_LIKE 1 0.40763038740578383 [nan  0.]\n",
      "userOwnerCounters_MOVIE_COMMENT_CREATE 1 0.40763038740578383 [nan  0.]\n",
      "userOwnerCounters_PHOTO_COMMENT_CREATE 1 0.40763038740578383 [nan  0.]\n",
      "userOwnerCounters_PHOTO_MARK_CREATE 1 0.40763038740578383 [nan  0.]\n",
      "userOwnerCounters_PHOTO_PIN_BATCH_CREATE 1 0.40763038740578383 [nan  0.]\n",
      "userOwnerCounters_PHOTO_PIN_UPDATE 1 0.40763038740578383 [nan  0.]\n",
      "userOwnerCounters_PHOTO_VIEW 1 0.40763038740578383 [nan  0.]\n",
      "userOwnerCounters_USER_DELETE_MESSAGE 1 0.40763038740578383 [nan  0.]\n",
      "userOwnerCounters_USER_FORUM_MESSAGE_CREATE 1 0.40763038740578383 [nan  0.]\n",
      "userOwnerCounters_USER_INTERNAL_LIKE 1 0.40763038740578383 [nan  0.]\n",
      "userOwnerCounters_USER_INTERNAL_UNLIKE 1 0.40763038740578383 [nan  0.]\n",
      "userOwnerCounters_USER_PHOTO_ALBUM_COMMENT_CREATE 1 0.40763038740578383 [nan  0.]\n",
      "userOwnerCounters_USER_PRESENT_SEND 1 0.40763038740578383 [nan  0.]\n",
      "userOwnerCounters_USER_PROFILE_VIEW 1 0.40763038740578383 [nan  0.]\n",
      "userOwnerCounters_USER_SEND_MESSAGE 1 0.40763038740578383 [nan  0.]\n",
      "userOwnerCounters_USER_STATUS_COMMENT_CREATE 1 0.40763038740578383 [nan  0.]\n",
      "userOwnerCounters_VOTE_POLL 1 0.40763038740578383 [nan  0.]\n"
     ]
    }
   ],
   "source": [
    "for c in df.columns:\n",
    "    un = df[c].nunique()\n",
    "    if un==0:\n",
    "        df.drop(c, axis=1, inplace=True)\n",
    "        print(c,un,'REMOVED')\n",
    "    if (un==1):\n",
    "        print(c,un,df[df[c].isnull()].shape[0]/df.shape[0],df[c].unique())\n",
    "    if len(df[c].unique()) == 1:\n",
    "        df.drop(c, axis=1, inplace=True)\n",
    "        print(c,'REMOVED2')"
   ]
  },
  {
   "cell_type": "code",
   "execution_count": 14,
   "metadata": {},
   "outputs": [
    {
     "name": "stdout",
     "output_type": "stream",
     "text": [
      "<class 'pandas.core.frame.DataFrame'>\n",
      "RangeIndex: 30787847 entries, 0 to 30787846\n",
      "Columns: 131 entries, Clicked to user_status\n",
      "dtypes: category(4), float32(82), int32(11), int64(1), object(2), uint16(1), uint64(2), uint8(28)\n",
      "memory usage: 15.9 GB\n"
     ]
    }
   ],
   "source": [
    "df.info(memory_usage='deep')"
   ]
  },
  {
   "cell_type": "code",
   "execution_count": 22,
   "metadata": {},
   "outputs": [],
   "source": [
    "df.drop('IS_PARTNER_CONTENT', axis=1, inplace=True)"
   ]
  },
  {
   "cell_type": "code",
   "execution_count": 48,
   "metadata": {},
   "outputs": [],
   "source": [
    "# df = pd.read_hdf('../data/df_md_fb_2.h5', key='c')"
   ]
  },
  {
   "cell_type": "code",
   "execution_count": 50,
   "metadata": {},
   "outputs": [],
   "source": [
    "df.drop(duplicates, axis=1, inplace=True)"
   ]
  },
  {
   "cell_type": "code",
   "execution_count": 51,
   "metadata": {},
   "outputs": [],
   "source": [
    "df.to_hdf('../data/df_md_fb_2.h5', key='c', mode='w', format='table')"
   ]
  },
  {
   "cell_type": "code",
   "execution_count": 52,
   "metadata": {},
   "outputs": [],
   "source": [
    "# df = pd.read_hdf('../data/df_md_fb.h5', key='c')[good_columns + feedback_columns + ['instanceId_userId', 'instanceId_objectId']].sort_values('instanceId_userId')"
   ]
  },
  {
   "cell_type": "code",
   "execution_count": 53,
   "metadata": {},
   "outputs": [
    {
     "data": {
      "text/plain": [
       "(30787847, 114)"
      ]
     },
     "execution_count": 53,
     "metadata": {},
     "output_type": "execute_result"
    }
   ],
   "source": [
    "df1 = pd.read_hdf('../data/df_md_fb_2.h5', key='c').sort_values('instanceId_userId')\n",
    "df1.shape"
   ]
  },
  {
   "cell_type": "code",
   "execution_count": 54,
   "metadata": {},
   "outputs": [
    {
     "data": {
      "text/plain": [
       "(2671862, 124)"
      ]
     },
     "execution_count": 54,
     "metadata": {},
     "output_type": "execute_result"
    }
   ],
   "source": [
    "df_test = parquet.read_table('../../dataset/test').to_pandas()\n",
    "md = pd.get_dummies(df_test.metadata_options.apply(pd.Series).stack()).sum(level=0)\n",
    "df_test.drop('metadata_options', inplace=True, axis=1)\n",
    "df_test = pd.concat([df_test,md], axis=1)\n",
    "df_test['first_image_id'] = df_test.ImageId.apply(get_first_image_id)\n",
    "df_test.drop('ImageId', axis=1, inplace=True)\n",
    "for c in cat_columns:\n",
    "    df_test[c] = df_test[c].fillna('NULL').astype('category')\n",
    "# for i, col in enumerate(df_test.columns):\n",
    "#     if col in cat_columns:\n",
    "#         df_test[col] = df_test[col].fillna('NULL').astype('category')\n",
    "#         print (col, df_test[col].unique())\n",
    "df_test.shape"
   ]
  },
  {
   "cell_type": "code",
   "execution_count": 55,
   "metadata": {},
   "outputs": [
    {
     "name": "stderr",
     "output_type": "stream",
     "text": [
      "/home/seshaln/anaconda3/lib/python3.7/site-packages/ipykernel_launcher.py:1: FutureWarning: Sorting because non-concatenation axis is not aligned. A future version\n",
      "of pandas will change to not sort by default.\n",
      "\n",
      "To accept the future behavior, pass 'sort=False'.\n",
      "\n",
      "To retain the current behavior and silence the warning, pass 'sort=True'.\n",
      "\n",
      "  \"\"\"Entry point for launching an IPython kernel.\n"
     ]
    },
    {
     "data": {
      "text/plain": [
       "(33459709, 114)"
      ]
     },
     "execution_count": 55,
     "metadata": {},
     "output_type": "execute_result"
    }
   ],
   "source": [
    "df = pd.concat([df1, df_test[df1[:1].drop(feedback_columns, axis=1).columns]])\n",
    "df.shape"
   ]
  },
  {
   "cell_type": "code",
   "execution_count": 56,
   "metadata": {},
   "outputs": [
    {
     "data": {
      "text/plain": [
       "18703083"
      ]
     },
     "execution_count": 56,
     "metadata": {},
     "output_type": "execute_result"
    }
   ],
   "source": [
    "import gc\n",
    "del(df1)\n",
    "gc.collect()"
   ]
  },
  {
   "cell_type": "code",
   "execution_count": 57,
   "metadata": {},
   "outputs": [
    {
     "name": "stdout",
     "output_type": "stream",
     "text": [
      "instanceId_objectType [Post, Photo, Video]\n",
      "Categories (3, object): [Post, Photo, Video]\n",
      "audit_clientType [API, WEB, MOB]\n",
      "Categories (3, object): [API, WEB, MOB]\n",
      "metadata_ownerType [GROUP_OPEN_OFFICIAL, GROUP_OPEN]\n",
      "Categories (2, object): [GROUP_OPEN_OFFICIAL, GROUP_OPEN]\n",
      "metadata_platform [OTHER, WEB, ANDROID, MOB, IOS, WINPHONE]\n",
      "Categories (6, object): [OTHER, WEB, ANDROID, MOB, IOS, WINPHONE]\n",
      "membership_status [A, NULL, P, Y, I, M, !, B, R]\n",
      "Categories (9, object): [A, NULL, P, Y, ..., M, !, B, R]\n"
     ]
    }
   ],
   "source": [
    "for c in cat_columns:\n",
    "    df[c] = df[c].astype('str').fillna('NULL').astype('category')\n",
    "    print (c, df[c].unique())"
   ]
  },
  {
   "cell_type": "code",
   "execution_count": 58,
   "metadata": {},
   "outputs": [
    {
     "name": "stdout",
     "output_type": "stream",
     "text": [
      "<class 'pandas.core.frame.DataFrame'>\n",
      "Int64Index: 33459709 entries, 26684558 to 2671861\n",
      "Columns: 114 entries, Clicked to user_status\n",
      "dtypes: category(5), float32(1), float64(75), int32(11), int64(3), object(1), uint8(18)\n",
      "memory usage: 23.9 GB\n"
     ]
    }
   ],
   "source": [
    "df.info(memory_usage='deep')"
   ]
  },
  {
   "cell_type": "code",
   "execution_count": 59,
   "metadata": {},
   "outputs": [
    {
     "name": "stdout",
     "output_type": "stream",
     "text": [
      "<class 'pandas.core.frame.DataFrame'>\n",
      "Int64Index: 33459709 entries, 26684558 to 2671861\n",
      "Columns: 114 entries, Clicked to user_status\n",
      "dtypes: category(5), float32(76), int32(11), int64(1), object(1), uint16(1), uint8(19)\n",
      "memory usage: 14.1 GB\n"
     ]
    }
   ],
   "source": [
    "df = convert_int_float(df)\n",
    "df.info(memory_usage='deep')"
   ]
  },
  {
   "cell_type": "code",
   "execution_count": 60,
   "metadata": {},
   "outputs": [],
   "source": [
    "# df_test[['instanceId_userId','metadata_ownerId', 'instanceId_objectId','auditweights_numDislikes','auditweights_numLikes','auditweights_numShows','audit_timestamp']]\\\n",
    "#     .sort_values(['instanceId_objectId', 'audit_timestamp'])"
   ]
  },
  {
   "cell_type": "code",
   "execution_count": 61,
   "metadata": {},
   "outputs": [],
   "source": [
    "# df[['instanceId_userId','metadata_ownerId', 'instanceId_objectId','auditweights_numDislikes','auditweights_numLikes','Liked','auditweights_numShows','audit_timestamp']]\\\n",
    "#     .sort_values(['instanceId_objectId', 'audit_timestamp'])"
   ]
  },
  {
   "cell_type": "code",
   "execution_count": 62,
   "metadata": {},
   "outputs": [],
   "source": [
    "# sorted(df.columns)"
   ]
  },
  {
   "cell_type": "code",
   "execution_count": 63,
   "metadata": {},
   "outputs": [],
   "source": [
    "def feature_preprocessing(df):\n",
    "    df['created_to_showed_days'] = ((df.audit_timestamp-df.metadata_createdAt)/86400000).astype(np.float32)\n",
    "    df['membership_updated_to_showed_days'] = ((df.audit_timestamp-df.membership_statusUpdateDate)/86400000).astype(np.float32)\n",
    "    for c in ['audit_timestamp','metadata_createdAt']:\n",
    "        x = pd.to_datetime(df[c],unit='ms')\n",
    "        df[c+'_sin_time'] = np.sin(2*np.pi*(x.dt.minute + x.dt.hour*60)/1440.0).astype(np.float32)\n",
    "        df[c+'_cos_time'] = np.cos(2*np.pi*(x.dt.minute + x.dt.hour*60)/1440.0).astype(np.float32)\n",
    "        df[c+'_dow'] = x.dt.dayofweek\n",
    "    \n",
    "    df['likes_to_shows'] = df.auditweights_numLikes/df.auditweights_numShows.astype(np.float32)\n",
    "    df['dislikes_to_likes'] = df.auditweights_numDislikes/df.auditweights_numLikes.astype(np.float32)\n",
    "    \n",
    "    for c in additional_cat_cols:\n",
    "        df[c] = df[c].fillna(df[c].min()-1).astype(int).astype('str')\n",
    "    return df \n"
   ]
  },
  {
   "cell_type": "code",
   "execution_count": 64,
   "metadata": {},
   "outputs": [
    {
     "name": "stdout",
     "output_type": "stream",
     "text": [
      "CPU times: user 12min 25s, sys: 48.6 s, total: 13min 14s\n",
      "Wall time: 9min 36s\n"
     ]
    }
   ],
   "source": [
    "%%time\n",
    "df = feature_preprocessing(df)"
   ]
  },
  {
   "cell_type": "code",
   "execution_count": 65,
   "metadata": {},
   "outputs": [],
   "source": [
    "agg_features = ['likes_to_shows','dislikes_to_likes', 'auditweights_svd',\n",
    "                'userOwnerCounters_USER_FEED_REMOVE', 'userOwnerCounters_CREATE_LIKE',\n",
    "                'auditweights_ctr_gender', 'metadata_numSymbols', 'audit_pos']\n",
    "agg_groups = [('User', ['instanceId_userId']), ('Object',['instanceId_objectId']), ('Owner',['metadata_ownerId']),('UserOwner',['instanceId_userId', 'metadata_ownerId'])]\n",
    "agg_functions = [('Max',max), ('Min',min), ('Mean','mean')]"
   ]
  },
  {
   "cell_type": "code",
   "execution_count": 66,
   "metadata": {},
   "outputs": [
    {
     "name": "stdout",
     "output_type": "stream",
     "text": [
      "Max_User_likes_to_shows\n",
      "Min_User_likes_to_shows\n",
      "Mean_User_likes_to_shows\n",
      "Max_Object_likes_to_shows\n",
      "Min_Object_likes_to_shows\n",
      "Mean_Object_likes_to_shows\n",
      "Max_Owner_likes_to_shows\n",
      "Min_Owner_likes_to_shows\n",
      "Mean_Owner_likes_to_shows\n",
      "Max_UserOwner_likes_to_shows\n",
      "Min_UserOwner_likes_to_shows\n",
      "Mean_UserOwner_likes_to_shows\n",
      "Max_User_dislikes_to_likes\n",
      "Min_User_dislikes_to_likes\n",
      "Mean_User_dislikes_to_likes\n",
      "Max_Object_dislikes_to_likes\n",
      "Min_Object_dislikes_to_likes\n",
      "Mean_Object_dislikes_to_likes\n",
      "Max_Owner_dislikes_to_likes\n",
      "Min_Owner_dislikes_to_likes\n",
      "Mean_Owner_dislikes_to_likes\n",
      "Max_UserOwner_dislikes_to_likes\n",
      "Min_UserOwner_dislikes_to_likes\n",
      "Mean_UserOwner_dislikes_to_likes\n",
      "Max_User_auditweights_svd\n",
      "Min_User_auditweights_svd\n",
      "Mean_User_auditweights_svd\n",
      "Max_Object_auditweights_svd\n",
      "Min_Object_auditweights_svd\n",
      "Mean_Object_auditweights_svd\n",
      "Max_Owner_auditweights_svd\n",
      "Min_Owner_auditweights_svd\n",
      "Mean_Owner_auditweights_svd\n",
      "Max_UserOwner_auditweights_svd\n",
      "Min_UserOwner_auditweights_svd\n",
      "Mean_UserOwner_auditweights_svd\n",
      "Max_User_userOwnerCounters_USER_FEED_REMOVE\n",
      "Min_User_userOwnerCounters_USER_FEED_REMOVE\n",
      "Mean_User_userOwnerCounters_USER_FEED_REMOVE\n",
      "Max_Object_userOwnerCounters_USER_FEED_REMOVE\n",
      "Min_Object_userOwnerCounters_USER_FEED_REMOVE\n",
      "Mean_Object_userOwnerCounters_USER_FEED_REMOVE\n",
      "Max_Owner_userOwnerCounters_USER_FEED_REMOVE\n",
      "Min_Owner_userOwnerCounters_USER_FEED_REMOVE\n",
      "Mean_Owner_userOwnerCounters_USER_FEED_REMOVE\n",
      "Max_UserOwner_userOwnerCounters_USER_FEED_REMOVE\n",
      "Min_UserOwner_userOwnerCounters_USER_FEED_REMOVE\n",
      "Mean_UserOwner_userOwnerCounters_USER_FEED_REMOVE\n",
      "Max_User_userOwnerCounters_CREATE_LIKE\n",
      "Min_User_userOwnerCounters_CREATE_LIKE\n",
      "Mean_User_userOwnerCounters_CREATE_LIKE\n",
      "Max_Object_userOwnerCounters_CREATE_LIKE\n",
      "Min_Object_userOwnerCounters_CREATE_LIKE\n",
      "Mean_Object_userOwnerCounters_CREATE_LIKE\n",
      "Max_Owner_userOwnerCounters_CREATE_LIKE\n",
      "Min_Owner_userOwnerCounters_CREATE_LIKE\n",
      "Mean_Owner_userOwnerCounters_CREATE_LIKE\n",
      "Max_UserOwner_userOwnerCounters_CREATE_LIKE\n",
      "Min_UserOwner_userOwnerCounters_CREATE_LIKE\n",
      "Mean_UserOwner_userOwnerCounters_CREATE_LIKE\n",
      "Max_User_auditweights_ctr_gender\n",
      "Min_User_auditweights_ctr_gender\n",
      "Mean_User_auditweights_ctr_gender\n",
      "Max_Object_auditweights_ctr_gender\n",
      "Min_Object_auditweights_ctr_gender\n",
      "Mean_Object_auditweights_ctr_gender\n",
      "Max_Owner_auditweights_ctr_gender\n",
      "Min_Owner_auditweights_ctr_gender\n",
      "Mean_Owner_auditweights_ctr_gender\n",
      "Max_UserOwner_auditweights_ctr_gender\n",
      "Min_UserOwner_auditweights_ctr_gender\n",
      "Mean_UserOwner_auditweights_ctr_gender\n",
      "Max_User_metadata_numSymbols\n",
      "Min_User_metadata_numSymbols\n",
      "Mean_User_metadata_numSymbols\n",
      "Max_Object_metadata_numSymbols\n",
      "Min_Object_metadata_numSymbols\n",
      "Mean_Object_metadata_numSymbols\n",
      "Max_Owner_metadata_numSymbols\n",
      "Min_Owner_metadata_numSymbols\n",
      "Mean_Owner_metadata_numSymbols\n",
      "Max_UserOwner_metadata_numSymbols\n",
      "Min_UserOwner_metadata_numSymbols\n",
      "Mean_UserOwner_metadata_numSymbols\n",
      "Max_User_audit_pos\n",
      "Min_User_audit_pos\n",
      "Mean_User_audit_pos\n",
      "Max_Object_audit_pos\n",
      "Min_Object_audit_pos\n",
      "Mean_Object_audit_pos\n",
      "Max_Owner_audit_pos\n",
      "Min_Owner_audit_pos\n",
      "Mean_Owner_audit_pos\n",
      "Max_UserOwner_audit_pos\n",
      "Min_UserOwner_audit_pos\n",
      "Mean_UserOwner_audit_pos\n",
      "CPU times: user 1h 58min 31s, sys: 41min 34s, total: 2h 40min 5s\n",
      "Wall time: 26min 1s\n"
     ]
    }
   ],
   "source": [
    "%%time\n",
    "for feature in agg_features:\n",
    "    if df[feature].nunique() < 3:\n",
    "        af = [('Mean','mean')]\n",
    "    else:\n",
    "        af = agg_functions\n",
    "    for group in agg_groups:\n",
    "        for agg in af:\n",
    "            print (agg[0]+'_'+group[0]+'_'+feature)\n",
    "            df[agg[0]+'_'+group[0]+'_'+feature] = df.groupby(group[1])[feature].transform(agg[1]).astype(np.float32)"
   ]
  },
  {
   "cell_type": "code",
   "execution_count": 67,
   "metadata": {},
   "outputs": [
    {
     "name": "stdout",
     "output_type": "stream",
     "text": [
      "CPU times: user 16min 42s, sys: 5min 10s, total: 21min 52s\n",
      "Wall time: 4min 32s\n"
     ]
    }
   ],
   "source": [
    "%%time\n",
    "for group in agg_groups:\n",
    "    df['Last_'+group[0]+'_likes_to_shows'] = (df.groupby(group[1])['auditweights_numLikes'].transform(max)/\n",
    "                                              df.groupby(group[1])['auditweights_numShows'].transform(max)).astype(np.float32)\n",
    "    df['Last_'+group[0]+'_dislikes_to_likes'] = (df.groupby(group[1])['auditweights_numDislikes'].transform(max)/\n",
    "                                  df.groupby(group[1])['auditweights_numLikes'].transform(max)).astype(np.float32)"
   ]
  },
  {
   "cell_type": "code",
   "execution_count": 68,
   "metadata": {},
   "outputs": [],
   "source": [
    "num_columns = df[:1].drop(['instanceId_objectId'] + feedback_columns + cat_columns + additional_cat_cols, axis=1).columns"
   ]
  },
  {
   "cell_type": "code",
   "execution_count": 69,
   "metadata": {},
   "outputs": [
    {
     "name": "stdout",
     "output_type": "stream",
     "text": [
      "<class 'pandas.core.frame.DataFrame'>\n",
      "Int64Index: 33459709 entries, 26684558 to 2671861\n",
      "Columns: 228 entries, Clicked to Last_UserOwner_dislikes_to_likes\n",
      "dtypes: category(5), float32(184), int32(8), int64(1), object(11), uint16(1), uint8(18)\n",
      "memory usage: 46.3 GB\n"
     ]
    }
   ],
   "source": [
    "df.info(memory_usage='deep')"
   ]
  },
  {
   "cell_type": "code",
   "execution_count": 70,
   "metadata": {},
   "outputs": [],
   "source": [
    "df = convert_int_float(df)"
   ]
  },
  {
   "cell_type": "code",
   "execution_count": 71,
   "metadata": {},
   "outputs": [
    {
     "name": "stdout",
     "output_type": "stream",
     "text": [
      "<class 'pandas.core.frame.DataFrame'>\n",
      "Int64Index: 33459709 entries, 26684558 to 2671861\n",
      "Columns: 228 entries, Clicked to Last_UserOwner_dislikes_to_likes\n",
      "dtypes: category(5), float32(184), int32(8), int64(1), object(11), uint16(1), uint8(18)\n",
      "memory usage: 46.3 GB\n"
     ]
    }
   ],
   "source": [
    "df.info(memory_usage='deep')"
   ]
  },
  {
   "cell_type": "code",
   "execution_count": 72,
   "metadata": {},
   "outputs": [],
   "source": [
    "df.to_hdf('../data/df_train_test_preprocessed.h5', key='c', mode='w', format='table')"
   ]
  },
  {
   "cell_type": "markdown",
   "metadata": {},
   "source": [
    "# READ"
   ]
  },
  {
   "cell_type": "code",
   "execution_count": 12,
   "metadata": {},
   "outputs": [],
   "source": [
    "df = pd.read_hdf('../data/df_train_test_preprocessed.h5', key='c').reset_index(drop=True).sort_values('audit_timestamp')"
   ]
  },
  {
   "cell_type": "code",
   "execution_count": 13,
   "metadata": {},
   "outputs": [],
   "source": [
    "# df[-100:][cat_columns+additional_cat_cols]"
   ]
  },
  {
   "cell_type": "code",
   "execution_count": 14,
   "metadata": {},
   "outputs": [],
   "source": [
    "df.drop(zero_features2, axis=1, inplace=True)"
   ]
  },
  {
   "cell_type": "code",
   "execution_count": 15,
   "metadata": {},
   "outputs": [],
   "source": [
    "df['Next_auditweights_numLikes'] = df.groupby('instanceId_objectId').auditweights_numLikes.shift(-1).astype('float32')\n",
    "df['Next_auditweights_numDislikes'] = df.groupby('instanceId_objectId').auditweights_numDislikes.shift(-1).astype('float32')\n",
    "df['Next_auditweights_numShows'] = df.groupby('instanceId_objectId').auditweights_numShows.shift(-1).astype('float32')\n",
    "\n",
    "df['Diff_Next_auditweights_numLikes'] = (df.Next_auditweights_numLikes - df.auditweights_numLikes).astype('float32')\n",
    "df['Diff_Next_auditweights_numDislikes'] = (df.Next_auditweights_numDislikes - df.auditweights_numDislikes).astype('float32')\n",
    "df['Diff_Next_auditweights_numShows'] = (df.Next_auditweights_numShows - df.auditweights_numShows).astype('float32')\n",
    "\n",
    "df['Diff_Next_likes_to_shows'] = (df.Diff_Next_auditweights_numLikes/df.Diff_Next_auditweights_numShows)\n",
    "df['Diff_Next_dislikes_to_shows'] = (df.Diff_Next_auditweights_numDislikes/df.Diff_Next_auditweights_numShows)\n",
    "df['Diff_Next_dislikes_to_likes'] = (df.Diff_Next_auditweights_numDislikes/df.Diff_Next_auditweights_numLikes)\n",
    "\n",
    "df['Next_auditweights_ctr_gender'] = df.groupby(['instanceId_objectId','user_gender']).auditweights_ctr_gender.shift(-1).astype('float32')\n",
    "df['Diff_Next_auditweights_ctr_gender'] = (df.Next_auditweights_ctr_gender/df.auditweights_ctr_gender - 1).astype('float32')\n",
    "\n",
    "df['Next_userOwnerCounters_CREATE_LIKE'] = df.groupby(['instanceId_userId','metadata_ownerId']).userOwnerCounters_CREATE_LIKE.shift(-1).astype('float32')\n",
    "df['Diff_Next_userOwnerCounters_CREATE_LIKE'] = (df.Next_userOwnerCounters_CREATE_LIKE - df.userOwnerCounters_CREATE_LIKE).astype('float32')\n",
    "\n",
    "df['Next_userOwnerCounters_USER_FEED_REMOVE'] = df.groupby(['instanceId_userId','metadata_ownerId']).userOwnerCounters_USER_FEED_REMOVE.shift(-1).astype('float32')\n",
    "df['Diff_Next_userOwnerCounters_USER_FEED_REMOVE'] = (df.Next_userOwnerCounters_USER_FEED_REMOVE - df.userOwnerCounters_USER_FEED_REMOVE).astype('float32')\n",
    "\n",
    "df['Next_auditweights_ctr_high'] = df.groupby('instanceId_objectId').auditweights_ctr_high.shift(-1).astype('float32')\n",
    "df['Diff_Next_auditweights_ctr_high'] = (df.Next_auditweights_ctr_high/df.auditweights_ctr_high - 1).astype('float32')\n",
    "\n",
    "df['dislikes_to_shows'] = df.auditweights_numDislikes/df.auditweights_numShows.astype(np.float32)"
   ]
  },
  {
   "cell_type": "code",
   "execution_count": 16,
   "metadata": {},
   "outputs": [],
   "source": [
    "# df[['instanceId_userId','metadata_ownerId', 'instanceId_objectId', 'auditweights_ctr_high','Next_auditweights_ctr_high','Diff_Next_auditweights_ctr_high','Liked','audit_timestamp']]\\\n",
    "#     .sort_values(['instanceId_objectId', 'audit_timestamp'])"
   ]
  },
  {
   "cell_type": "code",
   "execution_count": 17,
   "metadata": {},
   "outputs": [],
   "source": [
    "# df[['instanceId_userId','metadata_ownerId', 'instanceId_objectId','userOwnerCounters_CREATE_LIKE','Next_userOwnerCounters_CREATE_LIKE', 'Diff_Next_userOwnerCounters_CREATE_LIKE',\n",
    "#     'userOwnerCounters_USER_FEED_REMOVE', 'auditweights_ctr_high', 'Liked','audit_timestamp']]\\\n",
    "#     .sort_values(['instanceId_userId','metadata_ownerId', 'audit_timestamp'])"
   ]
  },
  {
   "cell_type": "code",
   "execution_count": 18,
   "metadata": {},
   "outputs": [],
   "source": [
    "df.sort_index(inplace=True)"
   ]
  },
  {
   "cell_type": "code",
   "execution_count": 19,
   "metadata": {},
   "outputs": [],
   "source": [
    "# for c in additional_cat_cols:\n",
    "#     df[c] = df[c].astype(np.float32)\n",
    "#     df[c] = df[c].fillna(df[c].min()-1).astype(int).astype(str)\n",
    "# df[-100:][cat_columns+additional_cat_cols].values"
   ]
  },
  {
   "cell_type": "code",
   "execution_count": 20,
   "metadata": {},
   "outputs": [
    {
     "data": {
      "text/plain": [
       "(2671862, 220)"
      ]
     },
     "execution_count": 20,
     "metadata": {},
     "output_type": "execute_result"
    }
   ],
   "source": [
    "test_len = 2671862\n",
    "df_test = df.iloc[-test_len:].drop(feedback_columns, axis=1)\n",
    "df_test.shape"
   ]
  },
  {
   "cell_type": "code",
   "execution_count": 21,
   "metadata": {},
   "outputs": [
    {
     "data": {
      "text/plain": [
       "(2671862, 236)"
      ]
     },
     "execution_count": 21,
     "metadata": {},
     "output_type": "execute_result"
    }
   ],
   "source": [
    "(2671862, 236)"
   ]
  },
  {
   "cell_type": "code",
   "execution_count": 22,
   "metadata": {},
   "outputs": [
    {
     "data": {
      "text/plain": [
       "(30787847, 229)"
      ]
     },
     "execution_count": 22,
     "metadata": {},
     "output_type": "execute_result"
    }
   ],
   "source": [
    "df = df.iloc[:-test_len]\n",
    "df.shape"
   ]
  },
  {
   "cell_type": "code",
   "execution_count": 23,
   "metadata": {},
   "outputs": [
    {
     "data": {
      "text/plain": [
       "(30787847, 245)"
      ]
     },
     "execution_count": 23,
     "metadata": {},
     "output_type": "execute_result"
    }
   ],
   "source": [
    "(30787847, 245)"
   ]
  },
  {
   "cell_type": "code",
   "execution_count": 24,
   "metadata": {},
   "outputs": [],
   "source": [
    "df.to_hdf('../data/df_train_preprocessed.h5', key='c', mode='w', format='table')"
   ]
  },
  {
   "cell_type": "code",
   "execution_count": 25,
   "metadata": {},
   "outputs": [],
   "source": [
    "df_test.to_hdf('../data/df_test_preprocessed.h5', key='c', mode='w', format='table')"
   ]
  },
  {
   "cell_type": "markdown",
   "metadata": {},
   "source": [
    "# Read2"
   ]
  },
  {
   "cell_type": "code",
   "execution_count": 8,
   "metadata": {},
   "outputs": [],
   "source": [
    "df = pd.read_hdf('../data/df_train_preprocessed.h5', key='c')\n",
    "df_test = pd.read_hdf('../data/df_test_preprocessed.h5', key='c')"
   ]
  },
  {
   "cell_type": "code",
   "execution_count": 9,
   "metadata": {},
   "outputs": [],
   "source": [
    "img_features = pd.read_csv('../data/image_classes.csv')"
   ]
  },
  {
   "cell_type": "code",
   "execution_count": 10,
   "metadata": {},
   "outputs": [],
   "source": [
    "# df = df.sort_values('audit_timestamp')\n",
    "# df = df[-20000000:]\n",
    "# df.sort_index(inplace=True)"
   ]
  },
  {
   "cell_type": "code",
   "execution_count": 11,
   "metadata": {},
   "outputs": [],
   "source": [
    "df = df.merge(img_features, left_on='first_image_id', right_on='hash', how='left')\\\n",
    "    .drop(['first_image_id','hash'], axis=1).rename(columns={'score':'image_class_score'})\n",
    "df_test = df_test.merge(img_features, left_on='first_image_id', right_on='hash', how='left')\\\n",
    "    .drop(['first_image_id','hash'], axis=1).rename(columns={'score':'image_class_score'})"
   ]
  },
  {
   "cell_type": "code",
   "execution_count": 12,
   "metadata": {},
   "outputs": [],
   "source": [
    "df['clazz'] = df['clazz'].astype(str)\n",
    "df_test['clazz'] = df_test['clazz'].astype(str)\n",
    "additional_cat_cols.append('clazz')"
   ]
  },
  {
   "cell_type": "code",
   "execution_count": 13,
   "metadata": {},
   "outputs": [],
   "source": [
    "txt_class70 = pd.read_hdf('../data/text_cluster_70.h5', key='c')\\\n",
    "    .rename(columns={'instanceId_userId':'instanceId_objectId'})\n",
    "txt_class120 = pd.read_hdf('../data/text_cluster_120.h5', key='c')\\\n",
    "    .rename(columns={'instanceId_userId':'instanceId_objectId'})\n",
    "txt_class70['instanceId_objectId']=txt_class70['instanceId_objectId'].astype(int)\n",
    "txt_class120['instanceId_objectId']=txt_class120['instanceId_objectId'].astype(int)"
   ]
  },
  {
   "cell_type": "code",
   "execution_count": 14,
   "metadata": {},
   "outputs": [],
   "source": [
    "df = df.merge(txt_class70, on='instanceId_objectId', how='left').merge(txt_class120, on='instanceId_objectId', how='left')\n",
    "df_test = df_test.merge(txt_class70, on='instanceId_objectId', how='left').merge(txt_class120, on='instanceId_objectId', how='left')"
   ]
  },
  {
   "cell_type": "code",
   "execution_count": 17,
   "metadata": {},
   "outputs": [],
   "source": [
    "additional_cat_cols.append('text_cluster_70')\n",
    "additional_cat_cols.append('text_cluster_120')"
   ]
  },
  {
   "cell_type": "code",
   "execution_count": 18,
   "metadata": {},
   "outputs": [],
   "source": [
    "# df.to_hdf('../data/df_train_img_txt_preprocessed.h5', key='c', mode='w', format='table')\n",
    "# df_test.to_hdf('../data/df_test_img_txt_preprocessed.h5', key='c', mode='w', format='table')"
   ]
  },
  {
   "cell_type": "code",
   "execution_count": null,
   "metadata": {},
   "outputs": [],
   "source": []
  },
  {
   "cell_type": "code",
   "execution_count": 19,
   "metadata": {},
   "outputs": [],
   "source": [
    "train_columns = df[:1].drop(['instanceId_objectId'] + feedback_columns, axis=1).columns\n",
    "num_columns = df[:1].drop(['instanceId_objectId'] + feedback_columns + cat_columns + additional_cat_cols, axis=1).columns"
   ]
  },
  {
   "cell_type": "code",
   "execution_count": 20,
   "metadata": {},
   "outputs": [
    {
     "name": "stdout",
     "output_type": "stream",
     "text": [
      "HAS_COMPANIONS\n",
      "HAS_DETECTED_TEXT\n",
      "HAS_MUSIC\n",
      "HAS_PHOTOS\n",
      "HAS_PINS\n",
      "HAS_POLLS\n",
      "HAS_URLS\n",
      "HAS_VIDEOS\n",
      "IS_EXTERNAL_SHARE\n",
      "IS_GIF\n",
      "IS_INTERNAL_GROUP_SHARE\n",
      "IS_INTERNAL_SHARE\n",
      "IS_PART_OF_ALBUM\n",
      "IS_PART_OF_TOPIC\n",
      "audit_pos\n",
      "metadata_createdAt\n",
      "metadata_numCompanions\n",
      "metadata_numPhotos\n",
      "metadata_numPolls\n",
      "metadata_numSymbols\n",
      "metadata_numTokens\n",
      "metadata_numVideos\n",
      "metadata_totalVideoLength\n",
      "image_class_score\n"
     ]
    }
   ],
   "source": [
    "for c in num_columns:\n",
    "    if df[c].dtype != 'float32':\n",
    "        print(c)\n",
    "        df[c] = df[c].astype('float32')"
   ]
  },
  {
   "cell_type": "code",
   "execution_count": 21,
   "metadata": {},
   "outputs": [],
   "source": [
    "# cat_cols = []\n",
    "# for i, col in enumerate(train_columns):   \n",
    "#     if col in cat_columns+additional_cat_cols:\n",
    "#         print (col, df[col].nunique())\n",
    "#         cat_cols.append(i)"
   ]
  },
  {
   "cell_type": "code",
   "execution_count": 22,
   "metadata": {},
   "outputs": [],
   "source": [
    "train_objects, val_objects = train_test_split(df.instanceId_objectId.unique(), test_size=0.1, random_state=42)\n",
    "df_train = df[df.instanceId_objectId.isin(train_objects)]\n",
    "df_val = df[df.instanceId_objectId.isin(val_objects)]\n",
    "# X_train = df_train.drop('target', axis=1)\n",
    "# y_train = df_train.target\n",
    "# X_val = df_val.drop('target', axis=1)\n",
    "# y_val = df_val.target\n",
    "# X_train.shape, X_val.shape"
   ]
  },
  {
   "cell_type": "code",
   "execution_count": 23,
   "metadata": {},
   "outputs": [
    {
     "data": {
      "text/plain": [
       "679"
      ]
     },
     "execution_count": 23,
     "metadata": {},
     "output_type": "execute_result"
    }
   ],
   "source": [
    "import gc\n",
    "gc.collect()"
   ]
  },
  {
   "cell_type": "code",
   "execution_count": 24,
   "metadata": {},
   "outputs": [
    {
     "data": {
      "text/plain": [
       "((27718040, 232), (3069807, 232))"
      ]
     },
     "execution_count": 24,
     "metadata": {},
     "output_type": "execute_result"
    }
   ],
   "source": [
    "df_train.shape, df_val.shape"
   ]
  },
  {
   "cell_type": "code",
   "execution_count": 25,
   "metadata": {},
   "outputs": [
    {
     "name": "stderr",
     "output_type": "stream",
     "text": [
      "/home/seshaln/anaconda3/lib/python3.7/site-packages/ipykernel_launcher.py:1: SettingWithCopyWarning: \n",
      "A value is trying to be set on a copy of a slice from a DataFrame.\n",
      "Try using .loc[row_indexer,col_indexer] = value instead\n",
      "\n",
      "See the caveats in the documentation: http://pandas.pydata.org/pandas-docs/stable/indexing.html#indexing-view-versus-copy\n",
      "  \"\"\"Entry point for launching an IPython kernel.\n",
      "/home/seshaln/anaconda3/lib/python3.7/site-packages/ipykernel_launcher.py:2: SettingWithCopyWarning: \n",
      "A value is trying to be set on a copy of a slice from a DataFrame.\n",
      "Try using .loc[row_indexer,col_indexer] = value instead\n",
      "\n",
      "See the caveats in the documentation: http://pandas.pydata.org/pandas-docs/stable/indexing.html#indexing-view-versus-copy\n",
      "  \n",
      "/home/seshaln/anaconda3/lib/python3.7/site-packages/pandas/core/frame.py:3697: SettingWithCopyWarning: \n",
      "A value is trying to be set on a copy of a slice from a DataFrame\n",
      "\n",
      "See the caveats in the documentation: http://pandas.pydata.org/pandas-docs/stable/indexing.html#indexing-view-versus-copy\n",
      "  errors=errors)\n"
     ]
    },
    {
     "name": "stdout",
     "output_type": "stream",
     "text": [
      "CPU times: user 1min 30s, sys: 27 s, total: 1min 57s\n",
      "Wall time: 23.5 s\n"
     ]
    }
   ],
   "source": [
    "%%time\n",
    "df_train['target'] = (df_train.Liked - df_train.Unliked).clip(0,1).astype(np.float32)\n",
    "df_val['target'] = df_val.Liked.astype(np.float32)\n",
    "# for c in feedback_columns:\n",
    "#     print(c)\n",
    "#     df_train.drop(c, axis=1, inplace=True)\n",
    "#     df_val.drop(c, axis=1, inplace=True)\n",
    "df_train.drop(feedback_columns, axis=1, inplace=True)\n",
    "df_val.drop(feedback_columns, axis=1, inplace=True)"
   ]
  },
  {
   "cell_type": "code",
   "execution_count": 26,
   "metadata": {},
   "outputs": [
    {
     "data": {
      "text/plain": [
       "((20625630, 224), (1076397, 224))"
      ]
     },
     "execution_count": 26,
     "metadata": {},
     "output_type": "execute_result"
    }
   ],
   "source": [
    "x = df_train.groupby(df_train.instanceId_userId).target.nunique()\n",
    "df_train = df_train[df_train.instanceId_userId.isin(x[x==2].index)]\n",
    "y = df_val.groupby(df_val.instanceId_userId).target.nunique()\n",
    "df_val = df_val[df_val.instanceId_userId.isin(y[y==2].index)]\n",
    "df_train.shape, df_val.shape"
   ]
  },
  {
   "cell_type": "code",
   "execution_count": 27,
   "metadata": {},
   "outputs": [
    {
     "data": {
      "text/plain": [
       "4.06487802948628"
      ]
     },
     "execution_count": 27,
     "metadata": {},
     "output_type": "execute_result"
    }
   ],
   "source": [
    "1/df_train.target.mean()"
   ]
  },
  {
   "cell_type": "code",
   "execution_count": 28,
   "metadata": {},
   "outputs": [
    {
     "data": {
      "text/plain": [
       "(20625630, 224)"
      ]
     },
     "execution_count": 28,
     "metadata": {},
     "output_type": "execute_result"
    }
   ],
   "source": [
    "df_train.shape"
   ]
  },
  {
   "cell_type": "code",
   "execution_count": 29,
   "metadata": {},
   "outputs": [],
   "source": [
    "from catboost import Pool, CatBoostClassifier, CatBoost, FeaturesData"
   ]
  },
  {
   "cell_type": "code",
   "execution_count": 30,
   "metadata": {},
   "outputs": [],
   "source": [
    "train_pool = Pool(\n",
    "    FeaturesData(num_feature_data=df_train[num_columns].values.astype(np.float32),\n",
    "                 cat_feature_data=df_train[cat_columns+additional_cat_cols].values),\n",
    "    df_train.target.values)\n",
    "# train_pool = Pool(df_train[train_columns].values, df_train.target.values, cat_features=cat_cols)"
   ]
  },
  {
   "cell_type": "code",
   "execution_count": 31,
   "metadata": {},
   "outputs": [],
   "source": [
    "val_pool = Pool(\n",
    "    FeaturesData(num_feature_data=df_val[num_columns].values.astype(np.float32),\n",
    "                 cat_feature_data=df_val[cat_columns+additional_cat_cols].values),\n",
    "    df_val.target.values)\n",
    "# val_pool = Pool(df_val[train_columns].values, df_val.target.values, cat_features=cat_cols) "
   ]
  },
  {
   "cell_type": "code",
   "execution_count": null,
   "metadata": {},
   "outputs": [],
   "source": [
    "model = CatBoostClassifier(iterations=3000, depth=8, loss_function='Logloss', learning_rate=0.1,\n",
    "                           eval_metric='AUC', random_seed=42, verbose=2, task_type='GPU', \n",
    "                           # gpu_cat_features_storage='CpuPinnedMemory', pinned_memory_size='16gb',\n",
    "                           gpu_ram_part=0.98,\n",
    "                           scale_pos_weight=1/df_train.target.mean(),\n",
    "                           max_ctr_complexity=1)\n",
    "#train the model\n",
    "model.fit(train_pool, eval_set=val_pool, use_best_model=True, plot=False)"
   ]
  },
  {
   "cell_type": "markdown",
   "metadata": {},
   "source": [
    "depth10 -> depth12\n",
    "bestTest = 0.7985493541\n",
    "bestIteration = 496\n",
    "0.7200108101931573\n",
    " - collabSubmit113.csv.gz"
   ]
  },
  {
   "cell_type": "markdown",
   "metadata": {},
   "source": [
    "max_ctr_complexity 1 -> 4\n",
    "bestTest = 0.8016450531\n",
    "bestIteration = 499\n",
    "0.7255148903601538\n",
    "0.7252125 - collabSubmit121.csv.gz"
   ]
  },
  {
   "cell_type": "markdown",
   "metadata": {},
   "source": [
    "depth12, max_ctr_complexity 1, GPU\n",
    "bestTest = 0.7985717058\n",
    "bestIteration = 498\n",
    "0.7200780194906244\n",
    "0.7213254 - collabSubmit241.csv.gz"
   ]
  },
  {
   "cell_type": "markdown",
   "metadata": {},
   "source": [
    "depth12, max_ctr_complexity 1, GPU, add_features\n",
    "bestTest = 0.8060864806\n",
    "bestIteration = 499\n",
    "0.7341605931245898\n",
    "0.7301234 - collabSubmit252.csv.gz"
   ]
  },
  {
   "cell_type": "markdown",
   "metadata": {},
   "source": [
    "depth12, max_ctr_complexity 1, GPU, add_features2\n",
    "bestTest = 0.8064311147\n",
    "bestIteration = 499\n",
    "0.7347634359708437\n",
    "0.7311602 - collabSubmit261.csv.gz"
   ]
  },
  {
   "cell_type": "markdown",
   "metadata": {},
   "source": [
    "depth12, max_ctr_complexity 4, CPU, add_features2\n",
    "bestTest = 0.8079399604\n",
    "bestIteration = 499\n",
    "0.7360686718052136\n",
    "0.7321119 - collabSubmit271.csv.gz"
   ]
  },
  {
   "cell_type": "code",
   "execution_count": null,
   "metadata": {},
   "outputs": [],
   "source": [
    "depth12, max_ctr_complexity 1, GPU, add_features3\n",
    "bestTest = 0.8071155548\n",
    "bestIteration = 498\n",
    "0.7351772107705281\n",
    "0.7328861 - collabSubmit321.csv.gz"
   ]
  },
  {
   "cell_type": "code",
   "execution_count": null,
   "metadata": {},
   "outputs": [],
   "source": [
    "depth12, max_ctr_complexity 1, GPU, add_features3, unlike\n",
    "bestTest = 0.8070437908\n",
    "bestIteration = 499\n",
    "0.7362668403773499\n",
    "0.732909 - collabSubmit331.csv.gz"
   ]
  },
  {
   "cell_type": "code",
   "execution_count": null,
   "metadata": {},
   "outputs": [],
   "source": [
    "depth12, max_ctr_complexity 1, GPU, add_features3, unlike, del0\n",
    "bestTest = 0.8071227074\n",
    "bestIteration = 499\n",
    "0.7356318202632838\n",
    "0.732965 - collabSubmit351.csv.gz"
   ]
  },
  {
   "cell_type": "code",
   "execution_count": null,
   "metadata": {},
   "outputs": [],
   "source": [
    "depth12, max_ctr_complexity 1, GPU, add_features3, unlike, del0, Next\n",
    "bestTest = 0.8084143996\n",
    "bestIteration = 498\n",
    "0.7372449094873829\n",
    "0.7339634 - collabSubmit361.csv.gz"
   ]
  },
  {
   "cell_type": "code",
   "execution_count": null,
   "metadata": {},
   "outputs": [],
   "source": [
    "depth12, max_ctr_complexity 1, GPU, add_features3, unlike, del0, Next, 3000 iter\n",
    "bestTest = 0.8096089661\n",
    "bestIteration = 1143\n",
    "0.7393927891787139\n",
    "0.7341876 - collabSubmit381.csv.gz"
   ]
  },
  {
   "cell_type": "code",
   "execution_count": null,
   "metadata": {},
   "outputs": [],
   "source": [
    "depth12, max_ctr_complexity 1, GPU, add_features3, unlike, del0, Next, 1200 iter, fix_sort\n",
    "bestTest = 0.8184744716\n",
    "bestIteration = 1109\n",
    "0.7535516521739076\n",
    "0.7389455 - collabSubmit391.csv.gz"
   ]
  },
  {
   "cell_type": "code",
   "execution_count": null,
   "metadata": {},
   "outputs": [],
   "source": [
    "depth12, max_ctr_complexity 1, GPU, add_features3, unlike, del0, Next, 1200 iter, fix_sort, ctr_high\n",
    "bestTest = 0.8186135292\n",
    "bestIteration = 1165\n",
    "0.7538811142309291\n",
    " - collabSubmit401.csv.gz"
   ]
  },
  {
   "cell_type": "code",
   "execution_count": null,
   "metadata": {},
   "outputs": [],
   "source": [
    "max_ctr_complexity 1, GPU, add_features3, unlike, del0, Next, 3000 iter, fix_sort, ctr_high, deph8\n",
    "bestTest = \n",
    "bestIteration = 3999\n",
    "\n",
    " - collabSubmit411.csv.gz"
   ]
  },
  {
   "cell_type": "code",
   "execution_count": null,
   "metadata": {},
   "outputs": [],
   "source": [
    "max_ctr_complexity 1, GPU, add_features3, unlike, del0, Next, 3000 iter, fix_sort, ctr_high, deph8\n",
    "bestTest = 0.8089591861\n",
    "bestIteration = 2996\n",
    "0.7491738315796818\n",
    "0.7247734 (5) - collabSubmit441.csv.gz"
   ]
  },
  {
   "cell_type": "code",
   "execution_count": null,
   "metadata": {},
   "outputs": [],
   "source": [
    "max_ctr_complexity 1, GPU, add_features3, unlike, del0, Next, 3000 iter, fix_sort, ctr_high, deph8\n",
    "bestTest = 0.8090895712\n",
    "bestIteration = 2999\n",
    "0.7493512464035558\n",
    "0.7246788 (5) - collabSubmit451.csv.gz"
   ]
  },
  {
   "cell_type": "code",
   "execution_count": null,
   "metadata": {},
   "outputs": [],
   "source": [
    "max_ctr_complexity 1, GPU, add_features3, unlike, del0, Next, 3000 iter, fix_sort, ctr_high, deph8, only_rankable\n",
    "bestTest = 0.7588869929\n",
    "bestIteration = 2999\n",
    "0.7494765187355047\n",
    "0.7266737 (5) - collabSubmit461.csv.gz"
   ]
  },
  {
   "cell_type": "code",
   "execution_count": null,
   "metadata": {},
   "outputs": [],
   "source": [
    "max_ctr_complexity 1, GPU, add_features3, 3000 iter, deph8, only_rankable, img\n",
    "bestTest = 0.759110868\n",
    "bestIteration = 2999\n",
    "0.7500146814328006\n",
    "0.7270203 (5) - collabSubmit481.csv.gz"
   ]
  },
  {
   "cell_type": "code",
   "execution_count": 46,
   "metadata": {},
   "outputs": [
    {
     "name": "stderr",
     "output_type": "stream",
     "text": [
      "/home/seshaln/anaconda3/lib/python3.7/site-packages/ipykernel_launcher.py:7: SettingWithCopyWarning: \n",
      "A value is trying to be set on a copy of a slice from a DataFrame.\n",
      "Try using .loc[row_indexer,col_indexer] = value instead\n",
      "\n",
      "See the caveats in the documentation: http://pandas.pydata.org/pandas-docs/stable/indexing.html#indexing-view-versus-copy\n",
      "  import sys\n"
     ]
    }
   ],
   "source": [
    "df_val['predictions'] = model.predict(val_pool, prediction_type='RawFormulaVal')\n",
    "def auc(labels, scores):\n",
    "    if len(labels) > sum(labels) > 0:\n",
    "        return roc_auc_score(labels, scores)\n",
    "    return float('NaN')\n",
    "df_v = df_val[['instanceId_userId', 'predictions', 'target']]\n",
    "df_v['instanceId_userId'] = df_v.instanceId_userId.astype(float).astype(int)"
   ]
  },
  {
   "cell_type": "code",
   "execution_count": 47,
   "metadata": {},
   "outputs": [
    {
     "name": "stdout",
     "output_type": "stream",
     "text": [
      "CPU times: user 3min 4s, sys: 1.92 s, total: 3min 6s\n",
      "Wall time: 3min 6s\n"
     ]
    },
    {
     "data": {
      "text/plain": [
       "0.7499329616670976"
      ]
     },
     "execution_count": 47,
     "metadata": {},
     "output_type": "execute_result"
    }
   ],
   "source": [
    "%%time\n",
    "df_v[['instanceId_userId', 'predictions', 'target']].groupby('instanceId_userId')\\\n",
    "    .apply(lambda y: auc(y.target.values, y.predictions.values)).mean()"
   ]
  },
  {
   "cell_type": "code",
   "execution_count": 48,
   "metadata": {},
   "outputs": [
    {
     "data": {
      "text/html": [
       "<div>\n",
       "<style scoped>\n",
       "    .dataframe tbody tr th:only-of-type {\n",
       "        vertical-align: middle;\n",
       "    }\n",
       "\n",
       "    .dataframe tbody tr th {\n",
       "        vertical-align: top;\n",
       "    }\n",
       "\n",
       "    .dataframe thead th {\n",
       "        text-align: right;\n",
       "    }\n",
       "</style>\n",
       "<table border=\"1\" class=\"dataframe\">\n",
       "  <thead>\n",
       "    <tr style=\"text-align: right;\">\n",
       "      <th></th>\n",
       "      <th>0</th>\n",
       "    </tr>\n",
       "    <tr>\n",
       "      <th>1</th>\n",
       "      <th></th>\n",
       "    </tr>\n",
       "  </thead>\n",
       "  <tbody>\n",
       "    <tr>\n",
       "      <th>Min_Object_userOwnerCounters_USER_FEED_REMOVE</th>\n",
       "      <td>0.001699</td>\n",
       "    </tr>\n",
       "    <tr>\n",
       "      <th>metadata_createdAt_dow</th>\n",
       "      <td>0.002022</td>\n",
       "    </tr>\n",
       "    <tr>\n",
       "      <th>HAS_COMPANIONS</th>\n",
       "      <td>0.002104</td>\n",
       "    </tr>\n",
       "    <tr>\n",
       "      <th>auditweights_onlineVideo</th>\n",
       "      <td>0.002910</td>\n",
       "    </tr>\n",
       "    <tr>\n",
       "      <th>userOwnerCounters_CREATE_MOVIE</th>\n",
       "      <td>0.002973</td>\n",
       "    </tr>\n",
       "    <tr>\n",
       "      <th>auditweights_userOwner_CREATE_COMMENT</th>\n",
       "      <td>0.003814</td>\n",
       "    </tr>\n",
       "    <tr>\n",
       "      <th>user_status</th>\n",
       "      <td>0.004056</td>\n",
       "    </tr>\n",
       "    <tr>\n",
       "      <th>Min_Owner_audit_pos</th>\n",
       "      <td>0.004494</td>\n",
       "    </tr>\n",
       "    <tr>\n",
       "      <th>Min_Owner_userOwnerCounters_USER_FEED_REMOVE</th>\n",
       "      <td>0.004603</td>\n",
       "    </tr>\n",
       "    <tr>\n",
       "      <th>HAS_CHEATED_TEXT</th>\n",
       "      <td>0.004640</td>\n",
       "    </tr>\n",
       "    <tr>\n",
       "      <th>Min_Owner_userOwnerCounters_CREATE_LIKE</th>\n",
       "      <td>0.005043</td>\n",
       "    </tr>\n",
       "    <tr>\n",
       "      <th>IS_PART_OF_TOPIC</th>\n",
       "      <td>0.005649</td>\n",
       "    </tr>\n",
       "    <tr>\n",
       "      <th>HAS_PINS</th>\n",
       "      <td>0.005690</td>\n",
       "    </tr>\n",
       "    <tr>\n",
       "      <th>IS_GIF</th>\n",
       "      <td>0.005953</td>\n",
       "    </tr>\n",
       "    <tr>\n",
       "      <th>auditweights_userOwner_VIDEO</th>\n",
       "      <td>0.006482</td>\n",
       "    </tr>\n",
       "    <tr>\n",
       "      <th>HAS_MUSIC</th>\n",
       "      <td>0.006563</td>\n",
       "    </tr>\n",
       "    <tr>\n",
       "      <th>auditweights_friendCommentFeeds</th>\n",
       "      <td>0.007600</td>\n",
       "    </tr>\n",
       "    <tr>\n",
       "      <th>membership_joinRequestDate</th>\n",
       "      <td>0.007886</td>\n",
       "    </tr>\n",
       "    <tr>\n",
       "      <th>auditweights_userOwner_USER_FEED_REMOVE</th>\n",
       "      <td>0.009756</td>\n",
       "    </tr>\n",
       "    <tr>\n",
       "      <th>metadata_numCompanions</th>\n",
       "      <td>0.010518</td>\n",
       "    </tr>\n",
       "    <tr>\n",
       "      <th>IS_INTERNAL_GROUP_SHARE</th>\n",
       "      <td>0.011592</td>\n",
       "    </tr>\n",
       "    <tr>\n",
       "      <th>HAS_DETECTED_TEXT</th>\n",
       "      <td>0.011716</td>\n",
       "    </tr>\n",
       "    <tr>\n",
       "      <th>Mean_UserOwner_dislikes_to_likes</th>\n",
       "      <td>0.012332</td>\n",
       "    </tr>\n",
       "    <tr>\n",
       "      <th>Mean_UserOwner_likes_to_shows</th>\n",
       "      <td>0.013957</td>\n",
       "    </tr>\n",
       "    <tr>\n",
       "      <th>Diff_Next_auditweights_numDislikes</th>\n",
       "      <td>0.015812</td>\n",
       "    </tr>\n",
       "    <tr>\n",
       "      <th>auditweights_friendCommenters</th>\n",
       "      <td>0.015954</td>\n",
       "    </tr>\n",
       "    <tr>\n",
       "      <th>Mean_Object_userOwnerCounters_USER_FEED_REMOVE</th>\n",
       "      <td>0.016345</td>\n",
       "    </tr>\n",
       "    <tr>\n",
       "      <th>auditweights_processedVideo</th>\n",
       "      <td>0.016601</td>\n",
       "    </tr>\n",
       "    <tr>\n",
       "      <th>Mean_UserOwner_metadata_numSymbols</th>\n",
       "      <td>0.017380</td>\n",
       "    </tr>\n",
       "    <tr>\n",
       "      <th>HAS_URLS</th>\n",
       "      <td>0.017391</td>\n",
       "    </tr>\n",
       "    <tr>\n",
       "      <th>...</th>\n",
       "      <td>...</td>\n",
       "    </tr>\n",
       "    <tr>\n",
       "      <th>auditweights_likersSvd_hyper</th>\n",
       "      <td>0.596225</td>\n",
       "    </tr>\n",
       "    <tr>\n",
       "      <th>auditweights_ctr_gender</th>\n",
       "      <td>0.606820</td>\n",
       "    </tr>\n",
       "    <tr>\n",
       "      <th>audit_timestamp</th>\n",
       "      <td>0.643638</td>\n",
       "    </tr>\n",
       "    <tr>\n",
       "      <th>metadata_numPolls</th>\n",
       "      <td>0.678501</td>\n",
       "    </tr>\n",
       "    <tr>\n",
       "      <th>Mean_User_userOwnerCounters_USER_FEED_REMOVE</th>\n",
       "      <td>0.746205</td>\n",
       "    </tr>\n",
       "    <tr>\n",
       "      <th>Mean_User_auditweights_svd</th>\n",
       "      <td>0.749871</td>\n",
       "    </tr>\n",
       "    <tr>\n",
       "      <th>metadata_authorId</th>\n",
       "      <td>0.753479</td>\n",
       "    </tr>\n",
       "    <tr>\n",
       "      <th>userOwnerCounters_TEXT</th>\n",
       "      <td>0.794642</td>\n",
       "    </tr>\n",
       "    <tr>\n",
       "      <th>HAS_POLLS</th>\n",
       "      <td>0.799747</td>\n",
       "    </tr>\n",
       "    <tr>\n",
       "      <th>Min_UserOwner_userOwnerCounters_CREATE_LIKE</th>\n",
       "      <td>0.805468</td>\n",
       "    </tr>\n",
       "    <tr>\n",
       "      <th>Max_User_auditweights_svd</th>\n",
       "      <td>0.841434</td>\n",
       "    </tr>\n",
       "    <tr>\n",
       "      <th>Diff_Next_auditweights_numLikes</th>\n",
       "      <td>0.882498</td>\n",
       "    </tr>\n",
       "    <tr>\n",
       "      <th>Mean_User_userOwnerCounters_CREATE_LIKE</th>\n",
       "      <td>0.894769</td>\n",
       "    </tr>\n",
       "    <tr>\n",
       "      <th>Next_userOwnerCounters_CREATE_LIKE</th>\n",
       "      <td>0.896508</td>\n",
       "    </tr>\n",
       "    <tr>\n",
       "      <th>Diff_Next_auditweights_numShows</th>\n",
       "      <td>0.939890</td>\n",
       "    </tr>\n",
       "    <tr>\n",
       "      <th>created_to_showed_days</th>\n",
       "      <td>0.973046</td>\n",
       "    </tr>\n",
       "    <tr>\n",
       "      <th>Mean_Object_likes_to_shows</th>\n",
       "      <td>0.982131</td>\n",
       "    </tr>\n",
       "    <tr>\n",
       "      <th>auditweights_feedOwner_RECOMMENDED_GROUP</th>\n",
       "      <td>1.197002</td>\n",
       "    </tr>\n",
       "    <tr>\n",
       "      <th>membership_updated_to_showed_days</th>\n",
       "      <td>1.227867</td>\n",
       "    </tr>\n",
       "    <tr>\n",
       "      <th>userOwnerCounters_CREATE_LIKE</th>\n",
       "      <td>1.310055</td>\n",
       "    </tr>\n",
       "    <tr>\n",
       "      <th>Diff_Next_auditweights_ctr_gender</th>\n",
       "      <td>1.322940</td>\n",
       "    </tr>\n",
       "    <tr>\n",
       "      <th>Max_UserOwner_auditweights_svd</th>\n",
       "      <td>1.845520</td>\n",
       "    </tr>\n",
       "    <tr>\n",
       "      <th>Max_UserOwner_userOwnerCounters_CREATE_LIKE</th>\n",
       "      <td>2.317490</td>\n",
       "    </tr>\n",
       "    <tr>\n",
       "      <th>Diff_Next_likes_to_shows</th>\n",
       "      <td>3.231636</td>\n",
       "    </tr>\n",
       "    <tr>\n",
       "      <th>auditweights_svd</th>\n",
       "      <td>3.369649</td>\n",
       "    </tr>\n",
       "    <tr>\n",
       "      <th>Mean_UserOwner_userOwnerCounters_CREATE_LIKE</th>\n",
       "      <td>3.685508</td>\n",
       "    </tr>\n",
       "    <tr>\n",
       "      <th>Last_Object_likes_to_shows</th>\n",
       "      <td>4.102072</td>\n",
       "    </tr>\n",
       "    <tr>\n",
       "      <th>Mean_UserOwner_auditweights_svd</th>\n",
       "      <td>5.193747</td>\n",
       "    </tr>\n",
       "    <tr>\n",
       "      <th>Diff_Next_userOwnerCounters_CREATE_LIKE</th>\n",
       "      <td>5.335230</td>\n",
       "    </tr>\n",
       "    <tr>\n",
       "      <th>instanceId_userId</th>\n",
       "      <td>28.081981</td>\n",
       "    </tr>\n",
       "  </tbody>\n",
       "</table>\n",
       "<p>222 rows × 1 columns</p>\n",
       "</div>"
      ],
      "text/plain": [
       "                                                        0\n",
       "1                                                        \n",
       "Min_Object_userOwnerCounters_USER_FEED_REMOVE    0.001699\n",
       "metadata_createdAt_dow                           0.002022\n",
       "HAS_COMPANIONS                                   0.002104\n",
       "auditweights_onlineVideo                         0.002910\n",
       "userOwnerCounters_CREATE_MOVIE                   0.002973\n",
       "auditweights_userOwner_CREATE_COMMENT            0.003814\n",
       "user_status                                      0.004056\n",
       "Min_Owner_audit_pos                              0.004494\n",
       "Min_Owner_userOwnerCounters_USER_FEED_REMOVE     0.004603\n",
       "HAS_CHEATED_TEXT                                 0.004640\n",
       "Min_Owner_userOwnerCounters_CREATE_LIKE          0.005043\n",
       "IS_PART_OF_TOPIC                                 0.005649\n",
       "HAS_PINS                                         0.005690\n",
       "IS_GIF                                           0.005953\n",
       "auditweights_userOwner_VIDEO                     0.006482\n",
       "HAS_MUSIC                                        0.006563\n",
       "auditweights_friendCommentFeeds                  0.007600\n",
       "membership_joinRequestDate                       0.007886\n",
       "auditweights_userOwner_USER_FEED_REMOVE          0.009756\n",
       "metadata_numCompanions                           0.010518\n",
       "IS_INTERNAL_GROUP_SHARE                          0.011592\n",
       "HAS_DETECTED_TEXT                                0.011716\n",
       "Mean_UserOwner_dislikes_to_likes                 0.012332\n",
       "Mean_UserOwner_likes_to_shows                    0.013957\n",
       "Diff_Next_auditweights_numDislikes               0.015812\n",
       "auditweights_friendCommenters                    0.015954\n",
       "Mean_Object_userOwnerCounters_USER_FEED_REMOVE   0.016345\n",
       "auditweights_processedVideo                      0.016601\n",
       "Mean_UserOwner_metadata_numSymbols               0.017380\n",
       "HAS_URLS                                         0.017391\n",
       "...                                                   ...\n",
       "auditweights_likersSvd_hyper                     0.596225\n",
       "auditweights_ctr_gender                          0.606820\n",
       "audit_timestamp                                  0.643638\n",
       "metadata_numPolls                                0.678501\n",
       "Mean_User_userOwnerCounters_USER_FEED_REMOVE     0.746205\n",
       "Mean_User_auditweights_svd                       0.749871\n",
       "metadata_authorId                                0.753479\n",
       "userOwnerCounters_TEXT                           0.794642\n",
       "HAS_POLLS                                        0.799747\n",
       "Min_UserOwner_userOwnerCounters_CREATE_LIKE      0.805468\n",
       "Max_User_auditweights_svd                        0.841434\n",
       "Diff_Next_auditweights_numLikes                  0.882498\n",
       "Mean_User_userOwnerCounters_CREATE_LIKE          0.894769\n",
       "Next_userOwnerCounters_CREATE_LIKE               0.896508\n",
       "Diff_Next_auditweights_numShows                  0.939890\n",
       "created_to_showed_days                           0.973046\n",
       "Mean_Object_likes_to_shows                       0.982131\n",
       "auditweights_feedOwner_RECOMMENDED_GROUP         1.197002\n",
       "membership_updated_to_showed_days                1.227867\n",
       "userOwnerCounters_CREATE_LIKE                    1.310055\n",
       "Diff_Next_auditweights_ctr_gender                1.322940\n",
       "Max_UserOwner_auditweights_svd                   1.845520\n",
       "Max_UserOwner_userOwnerCounters_CREATE_LIKE      2.317490\n",
       "Diff_Next_likes_to_shows                         3.231636\n",
       "auditweights_svd                                 3.369649\n",
       "Mean_UserOwner_userOwnerCounters_CREATE_LIKE     3.685508\n",
       "Last_Object_likes_to_shows                       4.102072\n",
       "Mean_UserOwner_auditweights_svd                  5.193747\n",
       "Diff_Next_userOwnerCounters_CREATE_LIKE          5.335230\n",
       "instanceId_userId                               28.081981\n",
       "\n",
       "[222 rows x 1 columns]"
      ]
     },
     "execution_count": 48,
     "metadata": {},
     "output_type": "execute_result"
    }
   ],
   "source": [
    "imp = pd.DataFrame(list(zip(model.get_feature_importance(train_pool),np.asarray(list(num_columns) + list(cat_columns+additional_cat_cols))))).set_index(1)\n",
    "imp.sort_values(0, ascending=True)"
   ]
  },
  {
   "cell_type": "code",
   "execution_count": 49,
   "metadata": {},
   "outputs": [
    {
     "data": {
      "text/plain": [
       "[]"
      ]
     },
     "execution_count": 49,
     "metadata": {},
     "output_type": "execute_result"
    }
   ],
   "source": [
    "imp = imp.sort_values(0, ascending=False)\n",
    "list(imp[imp[0]==0].index)"
   ]
  },
  {
   "cell_type": "code",
   "execution_count": 50,
   "metadata": {},
   "outputs": [],
   "source": [
    "imp.to_csv('../imp/features502.csv')"
   ]
  },
  {
   "cell_type": "code",
   "execution_count": null,
   "metadata": {},
   "outputs": [],
   "source": [
    "res = df_test[['instanceId_userId', 'instanceId_objectId']]"
   ]
  },
  {
   "cell_type": "code",
   "execution_count": null,
   "metadata": {},
   "outputs": [],
   "source": [
    "df_test = df_test[train_columns]"
   ]
  },
  {
   "cell_type": "code",
   "execution_count": null,
   "metadata": {},
   "outputs": [],
   "source": [
    "test_pool = Pool(\n",
    "    FeaturesData(num_feature_data=df_test[num_columns].values.astype(np.float32),\n",
    "                 cat_feature_data=df_test[cat_columns+additional_cat_cols].values))"
   ]
  },
  {
   "cell_type": "code",
   "execution_count": 52,
   "metadata": {},
   "outputs": [],
   "source": [
    "res['prediction'] = model.predict(test_pool, prediction_type='RawFormulaVal')"
   ]
  },
  {
   "cell_type": "code",
   "execution_count": 53,
   "metadata": {},
   "outputs": [
    {
     "data": {
      "text/html": [
       "<div>\n",
       "<style scoped>\n",
       "    .dataframe tbody tr th:only-of-type {\n",
       "        vertical-align: middle;\n",
       "    }\n",
       "\n",
       "    .dataframe tbody tr th {\n",
       "        vertical-align: top;\n",
       "    }\n",
       "\n",
       "    .dataframe thead th {\n",
       "        text-align: right;\n",
       "    }\n",
       "</style>\n",
       "<table border=\"1\" class=\"dataframe\">\n",
       "  <thead>\n",
       "    <tr style=\"text-align: right;\">\n",
       "      <th></th>\n",
       "      <th>instanceId_userId</th>\n",
       "      <th>instanceId_objectId</th>\n",
       "      <th>prediction</th>\n",
       "    </tr>\n",
       "  </thead>\n",
       "  <tbody>\n",
       "    <tr>\n",
       "      <th>0</th>\n",
       "      <td>602</td>\n",
       "      <td>25708174</td>\n",
       "      <td>1.217894</td>\n",
       "    </tr>\n",
       "    <tr>\n",
       "      <th>1</th>\n",
       "      <td>602</td>\n",
       "      <td>24393746</td>\n",
       "      <td>0.185588</td>\n",
       "    </tr>\n",
       "    <tr>\n",
       "      <th>2</th>\n",
       "      <td>803</td>\n",
       "      <td>25400331</td>\n",
       "      <td>-1.004105</td>\n",
       "    </tr>\n",
       "  </tbody>\n",
       "</table>\n",
       "</div>"
      ],
      "text/plain": [
       "  instanceId_userId  instanceId_objectId  prediction\n",
       "0               602             25708174    1.217894\n",
       "1               602             24393746    0.185588\n",
       "2               803             25400331   -1.004105"
      ]
     },
     "execution_count": 53,
     "metadata": {},
     "output_type": "execute_result"
    }
   ],
   "source": [
    "res[:3]"
   ]
  },
  {
   "cell_type": "code",
   "execution_count": 54,
   "metadata": {},
   "outputs": [],
   "source": [
    "SUBMIT_ID = 502\n",
    "res.to_hdf('../predictions/result{0}.h5'.format(SUBMIT_ID), key='c', mode='w', format='table')\n",
    "\n",
    "r = res.sort_values(by=['instanceId_userId', 'prediction'], ascending = (1,0))\n",
    "submit = r.groupby(\"instanceId_userId\")['instanceId_objectId'].apply(list)\n",
    "submit.to_csv('../submissions/collabSubmit{}_fixed.csv.gz'.format(SUBMIT_ID), header = False, compression='gzip')"
   ]
  },
  {
   "cell_type": "code",
   "execution_count": null,
   "metadata": {},
   "outputs": [],
   "source": []
  },
  {
   "cell_type": "code",
   "execution_count": null,
   "metadata": {},
   "outputs": [],
   "source": [
    "df.instanceId_userId.nunique(), df_test.instanceId_userId.nunique()"
   ]
  },
  {
   "cell_type": "code",
   "execution_count": 9,
   "metadata": {},
   "outputs": [
    {
     "data": {
      "text/plain": [
       "226695"
      ]
     },
     "execution_count": 9,
     "metadata": {},
     "output_type": "execute_result"
    }
   ],
   "source": [
    "len(set(df.instanceId_userId) & set(df_test.instanceId_userId))"
   ]
  },
  {
   "cell_type": "code",
   "execution_count": 57,
   "metadata": {},
   "outputs": [
    {
     "data": {
      "text/plain": [
       "(2936576, 325333)"
      ]
     },
     "execution_count": 57,
     "metadata": {},
     "output_type": "execute_result"
    }
   ],
   "source": [
    "df.instanceId_objectId.nunique(), df_test.instanceId_objectId.nunique()"
   ]
  },
  {
   "cell_type": "code",
   "execution_count": 58,
   "metadata": {},
   "outputs": [
    {
     "data": {
      "text/plain": [
       "237"
      ]
     },
     "execution_count": 58,
     "metadata": {},
     "output_type": "execute_result"
    }
   ],
   "source": [
    "len(set(df.instanceId_objectId) & set(df_test.instanceId_objectId))"
   ]
  },
  {
   "cell_type": "code",
   "execution_count": 60,
   "metadata": {},
   "outputs": [
    {
     "data": {
      "text/plain": [
       "(81272, 41917)"
      ]
     },
     "execution_count": 60,
     "metadata": {},
     "output_type": "execute_result"
    }
   ],
   "source": [
    "df.metadata_ownerId.nunique(), df_test.metadata_ownerId.nunique()"
   ]
  },
  {
   "cell_type": "code",
   "execution_count": 61,
   "metadata": {},
   "outputs": [
    {
     "data": {
      "text/plain": [
       "41321"
      ]
     },
     "execution_count": 61,
     "metadata": {},
     "output_type": "execute_result"
    }
   ],
   "source": [
    "len(set(df.metadata_ownerId.unique())&set(df_test.metadata_ownerId.unique()))"
   ]
  },
  {
   "cell_type": "code",
   "execution_count": 54,
   "metadata": {},
   "outputs": [
    {
     "data": {
      "text/plain": [
       "4946045            4\n",
       "6869544            5\n",
       "16777446           5\n",
       "5805959            5\n",
       "11653345           6\n",
       "16022439           6\n",
       "10222943           6\n",
       "2079063            6\n",
       "6314355            9\n",
       "7037492            9\n",
       "2742419            9\n",
       "2938895            9\n",
       "13576051           9\n",
       "9523476           12\n",
       "1534641           12\n",
       "4809764           14\n",
       "15103271          14\n",
       "18008520          15\n",
       "5358744           15\n",
       "4669565           15\n",
       "11101842          16\n",
       "7307918           17\n",
       "17615566          17\n",
       "11441941          17\n",
       "2547592           17\n",
       "2507888           17\n",
       "1242875           17\n",
       "7175505           17\n",
       "15856619          17\n",
       "3450605           18\n",
       "              ...   \n",
       "13266521    39082219\n",
       "13621772    39082220\n",
       "13313714    39082222\n",
       "13406240    39082222\n",
       "13370170    39082222\n",
       "13404648    39082222\n",
       "13374295    39082222\n",
       "13503519    39082222\n",
       "13541212    39082222\n",
       "13390863    39082222\n",
       "13395891    39082222\n",
       "13485091    39082222\n",
       "13486158    39082222\n",
       "13533236    39082222\n",
       "13608756    39082223\n",
       "13474751    39082223\n",
       "13584953    39082223\n",
       "13318113    39082223\n",
       "13613076    39082224\n",
       "13332065    39082225\n",
       "13535615    39082225\n",
       "13277557    39082225\n",
       "13376322    39082226\n",
       "13392036    39082229\n",
       "13263291    39082235\n",
       "13438410    39082235\n",
       "13380777    39082235\n",
       "13451876    39082235\n",
       "13339235    39082236\n",
       "13622070    39082242\n",
       "Name: instanceId_objectId, Length: 18286575, dtype: int32"
      ]
     },
     "execution_count": 54,
     "metadata": {},
     "output_type": "execute_result"
    }
   ],
   "source": [
    "df.instanceId_objectId.astype(np.int32).sort_values()"
   ]
  },
  {
   "cell_type": "code",
   "execution_count": 55,
   "metadata": {},
   "outputs": [
    {
     "data": {
      "text/plain": [
       "11641346           3\n",
       "5992427            3\n",
       "5992428            6\n",
       "13786300           9\n",
       "2607358           12\n",
       "6794970           15\n",
       "2824890           15\n",
       "173384            15\n",
       "15005587          15\n",
       "9300061           15\n",
       "3208966           15\n",
       "13466446          15\n",
       "9684334           15\n",
       "5874662           18\n",
       "8519890           21\n",
       "7371870           21\n",
       "4559145           36\n",
       "12634140          39\n",
       "2716815           39\n",
       "3098515           39\n",
       "4274528           39\n",
       "2330308           39\n",
       "2330309           39\n",
       "18011799          39\n",
       "3881770           39\n",
       "17625036          39\n",
       "4274529           39\n",
       "18011798          39\n",
       "6691677           39\n",
       "13732682          39\n",
       "              ...   \n",
       "7918971     15716385\n",
       "13624193    15716385\n",
       "7918972     15716385\n",
       "13571412    15716388\n",
       "13518694    15716394\n",
       "7647447     15716397\n",
       "7647449     15716418\n",
       "7647448     15716418\n",
       "7918973     15716463\n",
       "7810450     15716469\n",
       "13466444    15716472\n",
       "13624194    15716478\n",
       "13624195    15716478\n",
       "7918974     15716478\n",
       "13571413    15716505\n",
       "13310029    15716523\n",
       "13310030    15716523\n",
       "13310031    15716523\n",
       "13518695    15716538\n",
       "13518697    15716553\n",
       "13518696    15716553\n",
       "13571416    15716559\n",
       "13571415    15716559\n",
       "13571414    15716559\n",
       "13466445    15716568\n",
       "13414051    15716583\n",
       "13414050    15716583\n",
       "13414052    15716598\n",
       "13518698    15716607\n",
       "13571417    15716685\n",
       "Name: instanceId_userId, Length: 18286575, dtype: int32"
      ]
     },
     "execution_count": 55,
     "metadata": {},
     "output_type": "execute_result"
    }
   ],
   "source": [
    "df.instanceId_userId.astype(np.int32).sort_values()"
   ]
  },
  {
   "cell_type": "code",
   "execution_count": 56,
   "metadata": {},
   "outputs": [
    {
     "data": {
      "text/plain": [
       "8146190         1\n",
       "6351758         1\n",
       "3278319         1\n",
       "11971078        1\n",
       "11825805        1\n",
       "3217325         1\n",
       "5281427         2\n",
       "14951079        2\n",
       "11876252        2\n",
       "4638776         2\n",
       "15337707        2\n",
       "2612839         2\n",
       "13427850        3\n",
       "11649056        3\n",
       "13435217        3\n",
       "8967786         3\n",
       "15229088        3\n",
       "8799007         3\n",
       "10524167        3\n",
       "14570592        3\n",
       "11309157        3\n",
       "9677001         3\n",
       "6467756         3\n",
       "8855236         3\n",
       "6172614         3\n",
       "8689000         3\n",
       "9596194         3\n",
       "6549290         3\n",
       "7778363         3\n",
       "9193236         3\n",
       "            ...  \n",
       "13329973    85854\n",
       "3581270     85855\n",
       "13260904    85856\n",
       "1427978     85857\n",
       "3576989     85858\n",
       "7749778     85858\n",
       "3739627     85858\n",
       "1147887     85860\n",
       "1147885     85860\n",
       "16105306    85862\n",
       "7863417     85862\n",
       "17232880    85865\n",
       "11749942    85865\n",
       "3626573     85865\n",
       "2222729     85865\n",
       "17381132    85865\n",
       "7643805     85865\n",
       "2501007     85867\n",
       "2330292     85868\n",
       "7579999     85870\n",
       "7543628     85875\n",
       "5827788     85875\n",
       "1106010     85875\n",
       "13474207    85875\n",
       "2505528     85875\n",
       "14397285    85875\n",
       "3599600     85877\n",
       "7755893     85877\n",
       "3613246     85878\n",
       "13561606    85878\n",
       "Name: metadata_ownerId, Length: 18286575, dtype: int32"
      ]
     },
     "execution_count": 56,
     "metadata": {},
     "output_type": "execute_result"
    }
   ],
   "source": [
    "df.metadata_ownerId.astype(np.int32).sort_values()"
   ]
  }
 ],
 "metadata": {
  "kernelspec": {
   "display_name": "Python 3",
   "language": "python",
   "name": "python3"
  },
  "language_info": {
   "codemirror_mode": {
    "name": "ipython",
    "version": 3
   },
   "file_extension": ".py",
   "mimetype": "text/x-python",
   "name": "python",
   "nbconvert_exporter": "python",
   "pygments_lexer": "ipython3",
   "version": "3.6.5"
  }
 },
 "nbformat": 4,
 "nbformat_minor": 2
}
